{
 "cells": [
  {
   "cell_type": "code",
   "execution_count": null,
   "metadata": {},
   "outputs": [],
   "source": [
    "import pandas as pd\n",
    "import numpy as np"
   ]
  },
  {
   "cell_type": "code",
   "execution_count": null,
   "metadata": {},
   "outputs": [],
   "source": []
  },
  {
   "cell_type": "code",
   "execution_count": null,
   "metadata": {},
   "outputs": [],
   "source": [
    "def data_clean(df):\n",
    "    fill_na_other_list = ['installer', 'funder','public_meeting','scheme_management','permit']\n",
    "    del_list = ['recorded_by', 'extraction_type_group','extraction_type_class', 'payment', 'quantity_group', 'source', 'source_class', 'id', 'num_private', 'quantity_group','waterpoint_type_group', 'wpt_name', 'scheme_name', 'amount_tsh']\n",
    "    \n",
    "    for i in fill_na_other_list:\n",
    "        df[i].fillna('other', inplace = True)\n",
    "    df.drop(columns =[del_list], inplace = True)  \n",
    "    df.population.replace(0,df.groupby(['district_code']).population.mean(), inplace = True)\n",
    "    df.status_group.replace('functional needs repair','non functional', inplace = True)\n",
    "    \n",
    "    df['region_and_code'] = df['region'] + df['region_code'].map(str)\n",
    "    df.drop(columns = ['region', 'region_code'], inplace = True)\n",
    "    \n",
    "    i = df.construction_year.median()\n",
    "    df.construction_year.replace(0,i,inplace=True)\n",
    "    \n",
    "    j = df.groupby(['basin']).gps_height.mean()\n",
    "    df.gps_height.replace(0,j, inplace = True)\n",
    "    \n",
    "    cols = [i for i in df.columns if type(df[i].iloc[0]) == str]\n",
    "    df[cols] = df[cols].where(df[cols].apply(lambda x: x.map(x.value_counts())) > 50,\"other\")\n",
    "    "
   ]
  },
  {
   "cell_type": "code",
   "execution_count": null,
   "metadata": {},
   "outputs": [],
   "source": [
    "def feature_creation(df):\n",
    "    df['year'] = df.date_recorded.str[:4]\n",
    "    df['month'] = df.date_recorded.str[-4]\n",
    "    df.drop(columns = ['date_recorded'], inplace = True)\n",
    "    df['length_operation'] = df.year.map(int) - df.construction_year.map(int)\n",
    "    "
   ]
  }
 ],
 "metadata": {
  "kernelspec": {
   "display_name": "Python 3",
   "language": "python",
   "name": "python3"
  },
  "language_info": {
   "codemirror_mode": {
    "name": "ipython",
    "version": 3
   },
   "file_extension": ".py",
   "mimetype": "text/x-python",
   "name": "python",
   "nbconvert_exporter": "python",
   "pygments_lexer": "ipython3",
   "version": "3.7.4"
  }
 },
 "nbformat": 4,
 "nbformat_minor": 2
}
