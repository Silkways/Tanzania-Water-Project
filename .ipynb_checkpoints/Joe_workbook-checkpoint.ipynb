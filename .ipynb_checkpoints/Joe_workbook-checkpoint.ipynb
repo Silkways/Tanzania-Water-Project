{
 "cells": [
  {
   "cell_type": "markdown",
   "metadata": {
    "Collapsed": "false"
   },
   "source": [
    "# Premise"
   ]
  },
  {
   "cell_type": "markdown",
   "metadata": {
    "Collapsed": "true"
   },
   "source": [
    "## Who we are: Aqua Partners - Public Sector Consulting Firm specialized in economic development\n",
    "\n",
    "## Stakeholder: Tanzanian Government\n",
    "\n",
    "## Objective: Assist the government in improving the funcitonality of future waterpumps installed in the country using the existing range of infrastructure \n",
    "\n",
    "## Dataset: Status and features of waterpumps installed in Tanzania to provide water supply to cities / villages\n",
    "\n"
   ]
  },
  {
   "cell_type": "markdown",
   "metadata": {
    "Collapsed": "false"
   },
   "source": [
    "# Definitions "
   ]
  },
  {
   "cell_type": "markdown",
   "metadata": {
    "Collapsed": "false"
   },
   "source": [
    "amount_tsh - Total static head (amount water available to waterpoint) / date_recorded - The date the row was entered\n",
    "\n",
    "funder - Who funded the well / gps_height - Altitude of the well\n",
    "\n",
    "installer - Organization that installed the well / longitude - GPS coordinate \n",
    "\n",
    "latitude - GPS coordinate / wpt_name - Name of the waterpoint if there is one\n",
    "\n",
    "basin - Geographic water basin / subvillage - Geographic location / region - Geographic location\n",
    "\n",
    "region_code - Geographic location (coded)/ district_code - Geographic location (coded)\n",
    "\n",
    "lga - Geographic location / ward - Geographic location /population - Population around the well\n",
    "\n",
    "public_meeting - True/False / recorded_by - Group entering this row of data / scheme_management - Who operates the waterpoint\n",
    "\n",
    "scheme_name - Who operates the waterpoint / permit - If the waterpoint is permitted\n",
    "\n",
    "construction_year - Year the waterpoint was constructed / extraction_type - The kind of extraction the waterpoint uses\n",
    "\n",
    "extraction_type_group - The kind of extraction the waterpoint uses / extraction_type_class - The kind of extraction the waterpoint uses\n",
    "\n",
    "management - How the waterpoint is managed / management_group - How the waterpoint is managed\n",
    "\n",
    "payment - What the water costs / payment_type - What the water costs\n",
    "\n",
    "water_quality - The quality of the water / quality_group - The quality of the water\n",
    "\n",
    "quantity - The quantity of water / quantity_group - The quantity of water\n",
    "\n",
    "source - The source of the water / source_type - The source of the water\n",
    "\n",
    "source_class - The source of the water / waterpoint_type - The kind of waterpoint\n",
    "\n",
    "waterpoint_type_group - The kind of waterpoint"
   ]
  },
  {
   "cell_type": "markdown",
   "metadata": {
    "Collapsed": "false"
   },
   "source": [
    "# Package Installation"
   ]
  },
  {
   "cell_type": "code",
   "execution_count": 1,
   "metadata": {
    "Collapsed": "false"
   },
   "outputs": [
    {
     "ename": "ModuleNotFoundError",
     "evalue": "No module named 'ml_repo'",
     "output_type": "error",
     "traceback": [
      "\u001b[0;31m---------------------------------------------------------------------------\u001b[0m",
      "\u001b[0;31mModuleNotFoundError\u001b[0m                       Traceback (most recent call last)",
      "\u001b[0;32m<ipython-input-1-9950db193bd9>\u001b[0m in \u001b[0;36m<module>\u001b[0;34m\u001b[0m\n\u001b[1;32m     16\u001b[0m \u001b[0;32mfrom\u001b[0m \u001b[0msklearn\u001b[0m\u001b[0;34m.\u001b[0m\u001b[0mlinear_model\u001b[0m \u001b[0;32mimport\u001b[0m \u001b[0mLogisticRegression\u001b[0m\u001b[0;34m\u001b[0m\u001b[0;34m\u001b[0m\u001b[0m\n\u001b[1;32m     17\u001b[0m \u001b[0;32mfrom\u001b[0m \u001b[0msklearn\u001b[0m\u001b[0;34m.\u001b[0m\u001b[0mmodel_selection\u001b[0m \u001b[0;32mimport\u001b[0m \u001b[0mGridSearchCV\u001b[0m\u001b[0;34m,\u001b[0m\u001b[0mStratifiedKFold\u001b[0m\u001b[0;34m\u001b[0m\u001b[0;34m\u001b[0m\u001b[0m\n\u001b[0;32m---> 18\u001b[0;31m \u001b[0;32mfrom\u001b[0m \u001b[0mml_repo\u001b[0m \u001b[0;32mimport\u001b[0m \u001b[0mscores\u001b[0m\u001b[0;34m\u001b[0m\u001b[0;34m\u001b[0m\u001b[0m\n\u001b[0m\u001b[1;32m     19\u001b[0m \u001b[0;32mfrom\u001b[0m \u001b[0mml_repo\u001b[0m \u001b[0;32mimport\u001b[0m \u001b[0mroc_plot\u001b[0m\u001b[0;34m\u001b[0m\u001b[0;34m\u001b[0m\u001b[0m\n\u001b[1;32m     20\u001b[0m \u001b[0;32mfrom\u001b[0m \u001b[0mml_repo\u001b[0m \u001b[0;32mimport\u001b[0m \u001b[0mannot\u001b[0m\u001b[0;34m\u001b[0m\u001b[0;34m\u001b[0m\u001b[0m\n",
      "\u001b[0;31mModuleNotFoundError\u001b[0m: No module named 'ml_repo'"
     ]
    }
   ],
   "source": [
    "import pandas as pd\n",
    "import numpy as np\n",
    "import geopandas as geo\n",
    "import warnings\n",
    "warnings.filterwarnings('ignore')\n",
    "from sklearn.model_selection import train_test_split\n",
    "from sklearn.tree import DecisionTreeClassifier \n",
    "from sklearn.preprocessing import OneHotEncoder\n",
    "from sklearn.tree import DecisionTreeClassifier \n",
    "from sklearn.metrics import accuracy_score\n",
    "from sklearn.tree import export_graphviz\n",
    "from IPython.display import Image  \n",
    "from pydotplus import graph_from_dot_data\n",
    "from IPython.display import display\n",
    "from sklearn.model_selection import GridSearchCV\n",
    "from sklearn.linear_model import LogisticRegression\n",
    "from sklearn.model_selection import GridSearchCV,StratifiedKFold\n",
    "from ml_repo import scores\n",
    "from ml_repo import roc_plot\n",
    "from ml_repo import annot\n",
    "\n",
    "import matplotlib.pyplot as plt\n",
    "import seaborn as sns\n",
    "%matplotlib inline\n",
    "from sklearn.preprocessing import StandardScaler\n",
    "from sklearn.preprocessing import MinMaxScaler\n",
    "from sklearn.preprocessing import LabelEncoder\n",
    "from sklearn.metrics import classification_report\n"
   ]
  },
  {
   "cell_type": "markdown",
   "metadata": {
    "Collapsed": "false"
   },
   "source": [
    "# Dataset"
   ]
  },
  {
   "cell_type": "markdown",
   "metadata": {
    "Collapsed": "false"
   },
   "source": [
    "The labels in this dataset are simple. There are three possible values:\n",
    "functional - the waterpoint is operational and there are no repairs needed\n",
    "functional needs repair - the waterpoint is operational, but needs repairs\n",
    "non functional - the waterpoint is not operational"
   ]
  },
  {
   "cell_type": "code",
   "execution_count": null,
   "metadata": {
    "Collapsed": "false"
   },
   "outputs": [],
   "source": [
    "X = pd.read_csv('Data/X.csv')\n",
    "y = pd.read_csv('Data/Y.csv')\n",
    "X1 = pd.read_csv('Data/X1.csv')\n",
    "\n",
    "df = pd.merge(y,X,on='id')"
   ]
  },
  {
   "cell_type": "code",
   "execution_count": null,
   "metadata": {
    "Collapsed": "false"
   },
   "outputs": [],
   "source": [
    "(df.subvillage.value_counts(normalize = True)*100).cumsum().plot()"
   ]
  },
  {
   "cell_type": "code",
   "execution_count": null,
   "metadata": {
    "Collapsed": "false"
   },
   "outputs": [],
   "source": [
    "df.info()"
   ]
  },
  {
   "cell_type": "code",
   "execution_count": null,
   "metadata": {
    "Collapsed": "false"
   },
   "outputs": [],
   "source": [
    "df['installer'].fillna('other', inplace = True)\n",
    "df['funder'].fillna('other', inplace = True)\n",
    "df['public_meeting'].fillna('False', inplace = True)\n",
    "df['scheme_management'].fillna('other',inplace = True)\n",
    "df['permit'].fillna('False', inplace = True)\n",
    "df.drop(columns =['recorded_by', 'extraction_type_group','extraction_type_class', 'payment', 'quantity_group', 'source', 'source_class', 'id', 'num_private', 'quantity_group','waterpoint_type_group', 'wpt_name', 'scheme_name', 'amount_tsh'], inplace = True)\n",
    "df['region_and_code'] = df['region'] + df['region_code'].map(str)\n",
    "df.drop(columns = ['region', 'region_code'], inplace = True)\n",
    "df.population.replace(0,df.groupby(['district_code']).population.mean(), inplace = True)\n"
   ]
  },
  {
   "cell_type": "code",
   "execution_count": null,
   "metadata": {
    "Collapsed": "false"
   },
   "outputs": [],
   "source": [
    "i = df.construction_year.median()\n",
    "df.construction_year.replace(0,i,inplace=True)\n",
    "\n",
    "j = df.groupby(['basin']).gps_height.mean()\n",
    "df.gps_height.replace(0,j, inplace = True)\n",
    "\n"
   ]
  },
  {
   "cell_type": "code",
   "execution_count": null,
   "metadata": {
    "Collapsed": "false"
   },
   "outputs": [],
   "source": [
    "df['year'] = df.date_recorded.str[:4]\n",
    "df['month'] = df.date_recorded.str[-4]\n",
    "df.drop(columns = ['date_recorded'], inplace = True)\n",
    "df['length_operation'] = df.year.map(int) - df.construction_year.map(int)"
   ]
  },
  {
   "cell_type": "code",
   "execution_count": null,
   "metadata": {
    "Collapsed": "false"
   },
   "outputs": [],
   "source": [
    "cols = [i for i in df.columns if type(df[i].iloc[0]) == str]\n",
    "df[cols] = df[cols].where(df[cols].apply(lambda x: x.map(x.value_counts())) > 50,\"other\")"
   ]
  },
  {
   "cell_type": "code",
   "execution_count": null,
   "metadata": {
    "Collapsed": "false"
   },
   "outputs": [],
   "source": [
    "df.nunique()"
   ]
  },
  {
   "cell_type": "markdown",
   "metadata": {
    "Collapsed": "false"
   },
   "source": [
    "# Data Transformation"
   ]
  },
  {
   "cell_type": "code",
   "execution_count": null,
   "metadata": {
    "Collapsed": "false"
   },
   "outputs": [],
   "source": [
    "scaler = MinMaxScaler()\n",
    "conti = df.loc[:,['population', 'gps_height', 'length_operation']]\n",
    "df[['population', 'gps_height', 'length_operation']] = scaler.fit_transform(df[['population', 'gps_height', 'length_operation']])\n",
    "df"
   ]
  },
  {
   "cell_type": "code",
   "execution_count": null,
   "metadata": {
    "Collapsed": "false"
   },
   "outputs": [],
   "source": [
    "df.columns"
   ]
  },
  {
   "cell_type": "code",
   "execution_count": null,
   "metadata": {
    "Collapsed": "false"
   },
   "outputs": [],
   "source": [
    "y = df['status_group']\n",
    "\n",
    "X = df.loc[:, ['funder', 'gps_height', 'installer',\n",
    "       'basin', 'subvillage', 'district_code', 'lga', 'ward',\n",
    "       'population', 'public_meeting', 'scheme_management', 'permit',\n",
    "       'construction_year', 'extraction_type', 'management',\n",
    "       'management_group', 'payment_type', 'water_quality', 'quality_group',\n",
    "       'quantity', 'source_type', 'waterpoint_type', 'region_and_code', 'year',\n",
    "       'month', 'length_operation']]\n",
    "\n",
    "X1 = pd.get_dummies(X, prefix = ['funder', 'installer',\n",
    "       'basin', 'subvillage', 'district_code', 'lga', 'ward',\n",
    "       'public_meeting', 'scheme_management', 'permit',\n",
    "       'construction_year', 'extraction_type', 'management',\n",
    "       'management_group', 'payment_type', 'water_quality', 'quality_group',\n",
    "       'quantity', 'source_type', 'waterpoint_type', 'region_and_code'])\n",
    "\n",
    "y1 = pd.get_dummies(y, prefix = ['status_group'])\n",
    "y1 = y1.iloc[:,0]\n",
    "X1.shape"
   ]
  },
  {
   "cell_type": "markdown",
   "metadata": {
    "Collapsed": "false"
   },
   "source": [
    "# Initial split of DataSet (Train / Test set)"
   ]
  },
  {
   "cell_type": "code",
   "execution_count": null,
   "metadata": {
    "Collapsed": "false"
   },
   "outputs": [],
   "source": [
    "X_train, X_test, y_train, y_test = train_test_split(X1, y1, random_state=42, test_size=0.2)\n",
    "X_train,X_val,y_train,y_val = train_test_split(X_train,y_train,test_size=0.2,random_state=42) \n",
    "skf = StratifiedKFold(n_splits=5,random_state=42)"
   ]
  },
  {
   "cell_type": "markdown",
   "metadata": {
    "Collapsed": "false"
   },
   "source": [
    "# Model - Decision Tree"
   ]
  },
  {
   "cell_type": "code",
   "execution_count": null,
   "metadata": {
    "Collapsed": "false"
   },
   "outputs": [],
   "source": [
    "%%time\n",
    "\n",
    "from sklearn.tree import DecisionTreeClassifier\n",
    "model = DecisionTreeClassifier(random_state=42)\n",
    "model.fit(X_train,y_train)\n",
    "\n",
    "scores(model,X_train,X_val,y_train,y_val)\n",
    "roc_plot(model,X_train,y_train,X_val,y_val)"
   ]
  },
  {
   "cell_type": "code",
   "execution_count": null,
   "metadata": {
    "Collapsed": "false"
   },
   "outputs": [],
   "source": [
    "%%time\n",
    "clf = DecisionTreeClassifier()\n",
    "param_grid = {'criterion':['gini','entropy'], 'max_depth': [2,3,4], 'min_samples_leaf':[1500, 2000, 2500]}\n",
    "gs = GridSearchCV(clf, param_grid, cv = skf)\n",
    "\n",
    "gs.fit(X_train, y_train)\n",
    "gs.best_params_"
   ]
  },
  {
   "cell_type": "code",
   "execution_count": null,
   "metadata": {
    "Collapsed": "false"
   },
   "outputs": [],
   "source": [
    "y_preds = gs.predict(X_train)\n",
    "print('Accuracy: ', accuracy_score(y_train, y_preds))"
   ]
  },
  {
   "cell_type": "code",
   "execution_count": null,
   "metadata": {
    "Collapsed": "false"
   },
   "outputs": [],
   "source": [
    "clf = DecisionTreeClassifier(criterion='entropy', max_depth = 4, min_samples_leaf = 1500)\n",
    "clf.fit(X_train, y_train) #encoded categorical variable using pd.get_dummies()\n",
    "\n",
    "from sklearn.tree import export_graphviz\n",
    "# Export as dot file\n",
    "export_graphviz(clf, out_file='tree.dot', \n",
    "                feature_names = X_train.columns,\n",
    "                class_names = np.unique(y).astype(str),\n",
    "                rounded = True, proportion = False, \n",
    "                precision = 2, filled = True)\n",
    "\n",
    "# Convert to png \n",
    "from subprocess import call\n",
    "call(['dot', '-Tpng', 'tree.dot', '-o', 'tree.png', '-Gdpi=600'])\n",
    "\n",
    "# Display in jupyter notebook\n",
    "from IPython.display import Image\n",
    "Image(filename = 'tree.png')"
   ]
  },
  {
   "cell_type": "markdown",
   "metadata": {
    "Collapsed": "false"
   },
   "source": [
    "# Model - Logistic Regression "
   ]
  },
  {
   "cell_type": "code",
   "execution_count": null,
   "metadata": {
    "Collapsed": "false"
   },
   "outputs": [],
   "source": [
    "%%time\n",
    "\n",
    "logreg = LogisticRegression(fit_intercept = False, C = 1e15, solver='liblinear')\n",
    "model_log = logreg.fit(X_train, y_train)\n",
    "model_log"
   ]
  },
  {
   "cell_type": "code",
   "execution_count": null,
   "metadata": {
    "Collapsed": "false"
   },
   "outputs": [],
   "source": [
    "model_log.coef_"
   ]
  },
  {
   "cell_type": "code",
   "execution_count": null,
   "metadata": {
    "Collapsed": "false"
   },
   "outputs": [],
   "source": [
    "train_prob = model_log.predict_proba(X_train)[:,1]\n",
    "val_prob = model_log.predict_proba(X_val)[:,1]"
   ]
  },
  {
   "cell_type": "code",
   "execution_count": null,
   "metadata": {
    "Collapsed": "false"
   },
   "outputs": [],
   "source": [
    "from sklearn.metrics import roc_auc_score\n",
    "train = roc_auc_score(y_train,train_prob)\n",
    "val = roc_auc_score(y_val,val_prob)\n",
    "print('train: ', round(train,2),'//',\"validation: \", round(val,2))"
   ]
  },
  {
   "cell_type": "code",
   "execution_count": null,
   "metadata": {
    "Collapsed": "false"
   },
   "outputs": [],
   "source": [
    "from sklearn.metrics import roc_curve\n",
    "plt.figure(figsize=(7,7))\n",
    "\n",
    "for data in [[y_train, train_prob],[y_val, val_prob]]:\n",
    "    fpr, tpr, threshold = roc_curve(data[0], data[1])\n",
    "    plt.plot(fpr, tpr)\n",
    "annot(fpr, tpr, threshold)\n",
    "plt.plot([0, 1], [0, 1], color='navy', linestyle='--')\n",
    "plt.ylabel('TPR (power)')\n",
    "plt.xlabel('FPR (alpha)')\n",
    "plt.legend(['train','val','test'])\n",
    "plt.show()"
   ]
  },
  {
   "cell_type": "markdown",
   "metadata": {
    "Collapsed": "false"
   },
   "source": [
    "# Model - Random Forest"
   ]
  },
  {
   "cell_type": "code",
   "execution_count": null,
   "metadata": {
    "Collapsed": "false"
   },
   "outputs": [],
   "source": [
    "from ml_repo import roc_plot\n"
   ]
  },
  {
   "cell_type": "markdown",
   "metadata": {
    "Collapsed": "false"
   },
   "source": [
    "# Model - K-Nearest-Neighbors"
   ]
  },
  {
   "cell_type": "code",
   "execution_count": null,
   "metadata": {
    "Collapsed": "false"
   },
   "outputs": [],
   "source": []
  },
  {
   "cell_type": "markdown",
   "metadata": {
    "Collapsed": "false"
   },
   "source": [
    "# Model - Support Vector Machines"
   ]
  },
  {
   "cell_type": "code",
   "execution_count": null,
   "metadata": {
    "Collapsed": "false"
   },
   "outputs": [],
   "source": []
  }
 ],
 "metadata": {
  "kernelspec": {
   "display_name": "Python 3",
   "language": "python",
   "name": "python3"
  },
  "language_info": {
   "codemirror_mode": {
    "name": "ipython",
    "version": 3
   },
   "file_extension": ".py",
   "mimetype": "text/x-python",
   "name": "python",
   "nbconvert_exporter": "python",
   "pygments_lexer": "ipython3",
   "version": "3.7.4"
  }
 },
 "nbformat": 4,
 "nbformat_minor": 4
}
